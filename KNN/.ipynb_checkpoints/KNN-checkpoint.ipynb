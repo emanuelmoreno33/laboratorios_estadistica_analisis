{
 "cells": [
  {
   "cell_type": "markdown",
   "metadata": {},
   "source": [
    "Se importan las librerias a usar. Siendo numpy para calculos matematicos basicos, matplotlib para graficar y pandas para la lectura del csv."
   ]
  },
  {
   "cell_type": "code",
   "execution_count": 1,
   "metadata": {},
   "outputs": [],
   "source": [
    "import numpy as np\n",
    "import matplotlib.pyplot as plt\n",
    "import pandas as pd"
   ]
  },
  {
   "cell_type": "markdown",
   "metadata": {},
   "source": [
    "Se lee el csv y se muestran los primeros datos con su respectiva cabecera."
   ]
  },
  {
   "cell_type": "code",
   "execution_count": 2,
   "metadata": {},
   "outputs": [
    {
     "data": {
      "text/html": [
       "<div>\n",
       "<style scoped>\n",
       "    .dataframe tbody tr th:only-of-type {\n",
       "        vertical-align: middle;\n",
       "    }\n",
       "\n",
       "    .dataframe tbody tr th {\n",
       "        vertical-align: top;\n",
       "    }\n",
       "\n",
       "    .dataframe thead th {\n",
       "        text-align: right;\n",
       "    }\n",
       "</style>\n",
       "<table border=\"1\" class=\"dataframe\">\n",
       "  <thead>\n",
       "    <tr style=\"text-align: right;\">\n",
       "      <th></th>\n",
       "      <th>puntaje</th>\n",
       "      <th>horas_estudio</th>\n",
       "      <th>status</th>\n",
       "    </tr>\n",
       "  </thead>\n",
       "  <tbody>\n",
       "    <tr>\n",
       "      <th>0</th>\n",
       "      <td>1590</td>\n",
       "      <td>2.9</td>\n",
       "      <td>Aceptado</td>\n",
       "    </tr>\n",
       "    <tr>\n",
       "      <th>1</th>\n",
       "      <td>1540</td>\n",
       "      <td>2.7</td>\n",
       "      <td>Aceptado</td>\n",
       "    </tr>\n",
       "    <tr>\n",
       "      <th>2</th>\n",
       "      <td>1600</td>\n",
       "      <td>2.6</td>\n",
       "      <td>Aceptado</td>\n",
       "    </tr>\n",
       "    <tr>\n",
       "      <th>3</th>\n",
       "      <td>1590</td>\n",
       "      <td>2.7</td>\n",
       "      <td>Aceptado</td>\n",
       "    </tr>\n",
       "    <tr>\n",
       "      <th>4</th>\n",
       "      <td>1520</td>\n",
       "      <td>2.5</td>\n",
       "      <td>Aceptado</td>\n",
       "    </tr>\n",
       "  </tbody>\n",
       "</table>\n",
       "</div>"
      ],
      "text/plain": [
       "   puntaje  horas_estudio    status\n",
       "0     1590            2.9  Aceptado\n",
       "1     1540            2.7  Aceptado\n",
       "2     1600            2.6  Aceptado\n",
       "3     1590            2.7  Aceptado\n",
       "4     1520            2.5  Aceptado"
      ]
     },
     "execution_count": 2,
     "metadata": {},
     "output_type": "execute_result"
    }
   ],
   "source": [
    "calificaciones  = pd.read_csv(\"calificaciones.csv\")\n",
    "calificaciones.head()"
   ]
  },
  {
   "cell_type": "markdown",
   "metadata": {},
   "source": [
    "Del dataset anteriormente importado se crea una lista que tenga los valores del puntaje y las horas de estudio."
   ]
  },
  {
   "cell_type": "code",
   "execution_count": 3,
   "metadata": {},
   "outputs": [
    {
     "data": {
      "text/plain": [
       "[[1590.0, 2.9],\n",
       " [1540.0, 2.7],\n",
       " [1600.0, 2.6],\n",
       " [1590.0, 2.7],\n",
       " [1520.0, 2.5],\n",
       " [1540.0, 2.4],\n",
       " [1560.0, 2.3],\n",
       " [1490.0, 2.3],\n",
       " [1510.0, 2.4],\n",
       " [1350.0, 3.9],\n",
       " [1360.0, 3.7],\n",
       " [1370.0, 3.8],\n",
       " [1380.0, 3.7],\n",
       " [1410.0, 3.6],\n",
       " [1420.0, 3.9],\n",
       " [1430.0, 3.4],\n",
       " [1450.0, 3.7],\n",
       " [1460.0, 3.2],\n",
       " [1590.0, 3.9],\n",
       " [1540.0, 3.7],\n",
       " [1600.0, 3.6],\n",
       " [1490.0, 3.7],\n",
       " [1520.0, 3.5],\n",
       " [1540.0, 3.4],\n",
       " [1560.0, 3.3],\n",
       " [1460.0, 3.3],\n",
       " [1510.0, 3.4],\n",
       " [1340.0, 2.9],\n",
       " [1360.0, 2.4],\n",
       " [1320.0, 2.5],\n",
       " [1380.0, 2.6],\n",
       " [1400.0, 2.1],\n",
       " [1320.0, 2.5],\n",
       " [1310.0, 2.7],\n",
       " [1460.0, 2.7],\n",
       " [1500.0, 2.9],\n",
       " [1300.0, 3.5],\n",
       " [1320.0, 3.6],\n",
       " [1400.0, 2.7],\n",
       " [1300.0, 3.1],\n",
       " [1350.0, 3.1],\n",
       " [1430.0, 3.0],\n",
       " [1440.0, 2.3],\n",
       " [1440.0, 2.5],\n",
       " [1380.0, 2.1],\n",
       " [1430.0, 2.1],\n",
       " [1400.0, 2.5],\n",
       " [1420.0, 2.3],\n",
       " [1360.0, 2.9],\n",
       " [1305.0, 3.9],\n",
       " [1410.0, 2.1],\n",
       " [1305.0, 2.5],\n",
       " [1310.0, 2.1],\n",
       " [1350.0, 2.0]]"
      ]
     },
     "execution_count": 3,
     "metadata": {},
     "output_type": "execute_result"
    }
   ],
   "source": [
    "mod = calificaciones.iloc[:,0:2]\n",
    "puntajes = mod.values.tolist()\n",
    "X = puntajes\n",
    "X"
   ]
  },
  {
   "cell_type": "markdown",
   "metadata": {},
   "source": [
    "Y se crea otra lista con los valores si fueron rechazados o aceptados"
   ]
  },
  {
   "cell_type": "code",
   "execution_count": 4,
   "metadata": {},
   "outputs": [
    {
     "data": {
      "text/plain": [
       "['Aceptado',\n",
       " 'Aceptado',\n",
       " 'Aceptado',\n",
       " 'Aceptado',\n",
       " 'Aceptado',\n",
       " 'Aceptado',\n",
       " 'Aceptado',\n",
       " 'Aceptado',\n",
       " 'Aceptado',\n",
       " 'Aceptado',\n",
       " 'Aceptado',\n",
       " 'Aceptado',\n",
       " 'Aceptado',\n",
       " 'Aceptado',\n",
       " 'Aceptado',\n",
       " 'Aceptado',\n",
       " 'Aceptado',\n",
       " 'Aceptado',\n",
       " 'Aceptado',\n",
       " 'Aceptado',\n",
       " 'Aceptado',\n",
       " 'Aceptado',\n",
       " 'Aceptado',\n",
       " 'Aceptado',\n",
       " 'Aceptado',\n",
       " 'Aceptado',\n",
       " 'Aceptado',\n",
       " 'Rechazado',\n",
       " 'Rechazado',\n",
       " 'Rechazado',\n",
       " 'Rechazado',\n",
       " 'Rechazado',\n",
       " 'Rechazado',\n",
       " 'Rechazado',\n",
       " 'Rechazado',\n",
       " 'Rechazado',\n",
       " 'Rechazado',\n",
       " 'Rechazado',\n",
       " 'Rechazado',\n",
       " 'Rechazado',\n",
       " 'Rechazado',\n",
       " 'Rechazado',\n",
       " 'Rechazado',\n",
       " 'Rechazado',\n",
       " 'Rechazado',\n",
       " 'Rechazado',\n",
       " 'Rechazado',\n",
       " 'Rechazado',\n",
       " 'Rechazado',\n",
       " 'Rechazado',\n",
       " 'Rechazado',\n",
       " 'Rechazado',\n",
       " 'Rechazado',\n",
       " 'Rechazado']"
      ]
     },
     "execution_count": 4,
     "metadata": {},
     "output_type": "execute_result"
    }
   ],
   "source": [
    "mod2 = calificaciones.iloc[:,2]\n",
    "status = mod2.values.tolist()\n",
    "Y = status\n",
    "Y"
   ]
  },
  {
   "cell_type": "markdown",
   "metadata": {},
   "source": [
    "Se hace una grafica con los datos anteriores para ver como esta constituido,\n",
    "siendo de color verde los aceptados y de color rojo los rechazados."
   ]
  },
  {
   "cell_type": "code",
   "execution_count": 5,
   "metadata": {},
   "outputs": [
    {
     "data": {
      "text/plain": [
       "[]"
      ]
     },
     "execution_count": 5,
     "metadata": {},
     "output_type": "execute_result"
    },
    {
     "data": {
      "image/png": "[encoded data removed]",
      "text/plain": [
       "<Figure size 432x288 with 1 Axes>"
      ]
     },
     "metadata": {
      "needs_background": "light"
     },
     "output_type": "display_data"
    }
   ],
   "source": [
    "for i in range(len(X)):\n",
    "    if Y[i] == 'Aceptado':\n",
    "        plt.scatter(X[i][0], X[i][1], s=120, marker='P', linewidths=2, color='green')\n",
    "    else:\n",
    "        plt.scatter(X[i][0], X[i][1], s=120, marker='P', linewidths=2, color='red')\n",
    "        \n",
    "plt.plot()"
   ]
  },
  {
   "cell_type": "code",
   "execution_count": 6,
   "metadata": {},
   "outputs": [],
   "source": [
    "def most_found(array):\n",
    "    list_of_words = []\n",
    "    for i in range(len(array)):\n",
    "        if array[i] not in list_of_words:\n",
    "            list_of_words.append(array[i])\n",
    "            \n",
    "    most_counted = ''\n",
    "    n_of_most_counted = None\n",
    "    \n",
    "    for i in range(len(list_of_words)):\n",
    "        counted = array.count(list_of_words[i])\n",
    "        if n_of_most_counted == None:\n",
    "            most_counted = list_of_words[i]\n",
    "            n_of_most_counted = counted\n",
    "        elif n_of_most_counted < counted:\n",
    "            most_counted = list_of_words[i]\n",
    "            n_of_most_counted = counted\n",
    "        elif n_of_most_counted == counted:\n",
    "            most_counted = None\n",
    "            \n",
    "    return most_counted"
   ]
  },
  {
   "cell_type": "code",
   "execution_count": 7,
   "metadata": {},
   "outputs": [],
   "source": [
    "def find_neighbors(point, data, labels, k=3):\n",
    "    # How many dimentions do the space have?\n",
    "    n_of_dimensions = len(point)\n",
    "    \n",
    "    #find nearest neighbors\n",
    "    neighbors = []\n",
    "    neighbor_labels = []\n",
    "    \n",
    "    for i in range(0, k):\n",
    "        # To find it in data later, I get its order\n",
    "        nearest_neighbor_id = None\n",
    "        smallest_distance = None\n",
    "        \n",
    "        for i in range(0, len(data)):\n",
    "            eucledian_dist = 0\n",
    "            for d in range(0, n_of_dimensions):\n",
    "                dist = abs(point[d] - data[i][d])\n",
    "                eucledian_dist += dist\n",
    "                \n",
    "            eucledian_dist = np.sqrt(eucledian_dist)\n",
    "            \n",
    "            if smallest_distance == None:\n",
    "                smallest_distance = eucledian_dist\n",
    "                nearest_neighbor_id = i\n",
    "            elif smallest_distance > eucledian_dist:\n",
    "                smallest_distance = eucledian_dist\n",
    "                nearest_neighbor_id = i\n",
    "                \n",
    "        neighbors.append(data[nearest_neighbor_id])\n",
    "        neighbor_labels.append(labels[nearest_neighbor_id])\n",
    "        \n",
    "        data.remove(data[nearest_neighbor_id])\n",
    "        labels.remove(labels[nearest_neighbor_id])\n",
    "    return neighbor_labels"
   ]
  },
  {
   "cell_type": "markdown",
   "metadata": {},
   "source": [
    "El metodo que hara el KNN debe recibir un punto, los datos, etiquetas y la K que por default es 3"
   ]
  },
  {
   "cell_type": "code",
   "execution_count": 8,
   "metadata": {},
   "outputs": [],
   "source": [
    "def k_nearest_neighbor(point, data, labels, k=3):\n",
    "    \n",
    "    while True:\n",
    "        neighbor_labels = find_neighbors(point, data, labels, k=k)\n",
    "        label = most_found(neighbor_labels)\n",
    "        if label != None:\n",
    "            break\n",
    "        k += 1\n",
    "        if k >= len(data):\n",
    "            break\n",
    "            \n",
    "    return label"
   ]
  },
  {
   "cell_type": "markdown",
   "metadata": {},
   "source": [
    "Se indica el punto que se usara para buscar, se guarda en una variable\n",
    "el resultado que de el KNN.\n",
    "\n",
    "El metodo de KNN se envia el punto, los valores de la lista X, la variable Y que contiene\n",
    "las etiquetas y el valor que tendra K."
   ]
  },
  {
   "cell_type": "code",
   "execution_count": 9,
   "metadata": {},
   "outputs": [
    {
     "data": {
      "text/plain": [
       "'Rechazado'"
      ]
     },
     "execution_count": 9,
     "metadata": {},
     "output_type": "execute_result"
    }
   ],
   "source": [
    "punto = [1400, 2.75]\n",
    "Resultado = k_nearest_neighbor(punto, X, Y, k=3)\n",
    "Resultado"
   ]
  },
  {
   "cell_type": "markdown",
   "metadata": {},
   "source": [
    "Se grafica de nuevo pero se incluye ahora el valor obtenido en el KNN,\n",
    "teniendo solamente diferente forma para localizarlo."
   ]
  },
  {
   "cell_type": "code",
   "execution_count": 17,
   "metadata": {},
   "outputs": [
    {
     "data": {
      "text/plain": [
       "54"
      ]
     },
     "execution_count": 17,
     "metadata": {},
     "output_type": "execute_result"
    }
   ],
   "source": [
    "mod = calificaciones.iloc[:,0:2]\n",
    "puntajes = mod.values.tolist()\n",
    "len(puntajes)\n",
    "mod2 = calificaciones.iloc[:,2]\n",
    "status = mod2.values.tolist()\n",
    "len(status)"
   ]
  },
  {
   "cell_type": "code",
   "execution_count": 24,
   "metadata": {},
   "outputs": [
    {
     "data": {
      "text/plain": [
       "[]"
      ]
     },
     "execution_count": 24,
     "metadata": {},
     "output_type": "execute_result"
    },
    {
     "data": {
      "image/png": "[encoded data removed]",
      "text/plain": [
       "<Figure size 432x288 with 1 Axes>"
      ]
     },
     "metadata": {
      "needs_background": "light"
     },
     "output_type": "display_data"
    }
   ],
   "source": [
    "for i in range(len(puntajes)):\n",
    "    if status[i] == 'Aceptado':\n",
    "        plt.scatter(puntajes[i][0], puntajes[i][1], s=120, marker='P', linewidths=1, color='green')\n",
    "    else:\n",
    "        plt.scatter(puntajes[i][0], puntajes[i][1], s=120, marker='P', linewidths=1, color='red')\n",
    "if(Resultado == 'Rechazado'):\n",
    "    Color = 'red'\n",
    "else:\n",
    "    Color = 'green'\n",
    "plt.scatter(punto[0],punto[1], s=100, marker='X', linewidths=2, color=Color,alpha=.8,edgecolors='black')\n",
    "plt.plot()"
   ]
  },
  {
   "cell_type": "code",
   "execution_count": null,
   "metadata": {},
   "outputs": [],
   "source": []
  }
 ],
 "metadata": {
  "kernelspec": {
   "display_name": "Python 3",
   "language": "python",
   "name": "python3"
  },
  "language_info": {
   "codemirror_mode": {
    "name": "ipython",
    "version": 3
   },
   "file_extension": ".py",
   "mimetype": "text/x-python",
   "name": "python",
   "nbconvert_exporter": "python",
   "pygments_lexer": "ipython3",
   "version": "3.8.3"
  }
 },
 "nbformat": 4,
 "nbformat_minor": 4
}
